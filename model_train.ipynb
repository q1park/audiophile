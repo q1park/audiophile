{
 "cells": [
  {
   "cell_type": "code",
   "execution_count": 1,
   "metadata": {},
   "outputs": [],
   "source": [
    "%matplotlib inline\n",
    "from IPython.core.interactiveshell import InteractiveShell\n",
    "InteractiveShell.ast_node_interactivity = 'all'\n",
    "\n",
    "import os\n",
    "import time\n",
    "import math\n",
    "import h5py\n",
    "import numpy as np\n",
    "import matplotlib.pyplot as plt\n",
    "from datetime import timedelta\n",
    "\n",
    "import tensorflow as tf\n",
    "tf.enable_eager_execution()\n",
    "\n",
    "from sklearn.manifold import TSNE\n",
    "\n",
    "from batch import batchsampler\n",
    "from tripletloss import *"
   ]
  },
  {
   "cell_type": "code",
   "execution_count": 2,
   "metadata": {},
   "outputs": [],
   "source": [
    "class EmbedNet(tf.keras.Model):\n",
    "    def __init__(self, rnndim, fcdim1, fcdim2):\n",
    "        super(EmbedNet, self).__init__()\n",
    "\n",
    "        self.gru = tf.keras.layers.Bidirectional(\n",
    "            tf.keras.layers.GRU(rnndim, return_sequences=True) )\n",
    "        self.dense1 = tf.keras.layers.Dense(fcdim1)\n",
    "        self.dense2 = tf.keras.layers.Dense(fcdim2)\n",
    "\n",
    "    def call(self, inputs, training=False):\n",
    "        state = tf.keras.layers.Masking(mask_value=99.)(inputs)\n",
    "        state = self.gru(state)\n",
    "        state = tf.keras.layers.GlobalAveragePooling1D()(state)\n",
    "        state = self.dense1(state)\n",
    "        state = tf.keras.layers.PReLU()(state)\n",
    "        state = tf.keras.layers.Dropout(0.2)(state, training=training)\n",
    "        \n",
    "        state = self.dense2(state)\n",
    "\n",
    "        return tf.math.l2_normalize(state)"
   ]
  },
  {
   "cell_type": "code",
   "execution_count": 3,
   "metadata": {},
   "outputs": [
    {
     "name": "stdout",
     "output_type": "stream",
     "text": [
      "WARNING:tensorflow:From /home/q1park/anaconda3/envs/py36/lib/python3.6/site-packages/tensorflow/python/ops/tensor_array_ops.py:162: colocate_with (from tensorflow.python.framework.ops) is deprecated and will be removed in a future version.\n",
      "Instructions for updating:\n",
      "Colocations handled automatically by placer.\n",
      "_________________________________________________________________\n",
      "Layer (type)                 Output Shape              Param #   \n",
      "=================================================================\n",
      "bidirectional (Bidirectional multiple                  5088      \n",
      "_________________________________________________________________\n",
      "dense (Dense)                multiple                  528       \n",
      "_________________________________________________________________\n",
      "dense_1 (Dense)              multiple                  272       \n",
      "=================================================================\n",
      "Total params: 5,888\n",
      "Trainable params: 5,888\n",
      "Non-trainable params: 0\n",
      "_________________________________________________________________\n"
     ]
    }
   ],
   "source": [
    "tripnet = EmbedNet(16, 16, 16)\n",
    "tripnet.build((None, 300, 36))\n",
    "tripnet.summary()"
   ]
  },
  {
   "cell_type": "code",
   "execution_count": 4,
   "metadata": {},
   "outputs": [],
   "source": [
    "optimizer = tf.train.AdamOptimizer(learning_rate=1e-3);\n",
    "lossmetric = tf.keras.metrics.Mean();"
   ]
  },
  {
   "cell_type": "code",
   "execution_count": 5,
   "metadata": {},
   "outputs": [
    {
     "name": "stdout",
     "output_type": "stream",
     "text": [
      "epoch 0: mean loss = 0.19862822\n",
      "epoch 20: mean loss = 0.19511813\n",
      "epoch 40: mean loss = 0.19022606\n",
      "epoch 60: mean loss = 0.18230897\n",
      "epoch 80: mean loss = 0.17880009\n",
      "epoch 100: mean loss = 0.17554231\n",
      "epoch 120: mean loss = 0.17413826\n",
      "epoch 140: mean loss = 0.17303023\n",
      "epoch 160: mean loss = 0.17210537\n",
      "epoch 180: mean loss = 0.17102593\n",
      "epoch 200: mean loss = 0.17039151\n",
      "epoch 220: mean loss = 0.16993625\n",
      "epoch 240: mean loss = 0.16935939\n",
      "epoch 260: mean loss = 0.1691245\n",
      "epoch 280: mean loss = 0.16872008\n",
      "epoch 300: mean loss = 0.1681616\n",
      "epoch 320: mean loss = 0.16781534\n",
      "epoch 340: mean loss = 0.16735564\n",
      "epoch 360: mean loss = 0.166911\n",
      "epoch 380: mean loss = 0.16623394\n",
      "epoch 400: mean loss = 0.1659962\n",
      "epoch 420: mean loss = 0.1655249\n",
      "epoch 440: mean loss = 0.16495445\n",
      "epoch 460: mean loss = 0.16492793\n",
      "epoch 480: mean loss = 0.16451173\n"
     ]
    }
   ],
   "source": [
    "batchgen = batchsampler('data/ami_train.hdf5', batchdim = [6, 25], nsec = 3.0)\n",
    "\n",
    "for steps in range(500):\n",
    "    epoch = batchgen.nepoch\n",
    "    batch = batchgen.getbatch()\n",
    "    xtrain, ytrain = batch[0], batch[1]\n",
    "        \n",
    "    with tf.GradientTape() as tape:\n",
    "        embedding = tripnet(xtrain)\n",
    "        loss = batch_all(embedding, ytrain)\n",
    "\n",
    "    grads = tape.gradient(loss, tripnet.trainable_variables)\n",
    "    optimizer.apply_gradients(zip(grads, tripnet.trainable_variables))\n",
    "    lossmetric(loss)\n",
    "        \n",
    "    if batchgen.nepoch is not epoch and epoch % 20 == 0:\n",
    "        print('epoch %s: mean loss = %s' % (epoch, lossmetric.result().numpy() ))\n",
    "pass;"
   ]
  },
  {
   "cell_type": "code",
   "execution_count": 6,
   "metadata": {},
   "outputs": [],
   "source": [
    "listembedding = list()\n",
    "listlabel = list()"
   ]
  },
  {
   "cell_type": "code",
   "execution_count": 7,
   "metadata": {},
   "outputs": [],
   "source": [
    "for i in range(3):\n",
    "    testbatch, testlabel = batchgen.getbatch()\n",
    "    testembedding = tripnet(testbatch)\n",
    "    listembedding.append(testembedding.numpy())\n",
    "    listlabel.append(testlabel.numpy())"
   ]
  },
  {
   "cell_type": "code",
   "execution_count": 8,
   "metadata": {},
   "outputs": [],
   "source": [
    "X = np.concatenate(listembedding, axis=0)\n",
    "y_true = np.concatenate(listlabel, axis=0)"
   ]
  },
  {
   "cell_type": "code",
   "execution_count": 9,
   "metadata": {},
   "outputs": [],
   "source": [
    "X = np.vstack(X)\n",
    "_, y_true = np.unique(y_true, return_inverse=True)"
   ]
  },
  {
   "cell_type": "code",
   "execution_count": 10,
   "metadata": {},
   "outputs": [
    {
     "data": {
      "text/plain": [
       "<matplotlib.collections.PathCollection at 0x7f25ec77ce48>"
      ]
     },
     "execution_count": 10,
     "metadata": {},
     "output_type": "execute_result"
    },
    {
     "data": {
      "image/png": "[encoded data removed]",
      "text/plain": [
       "<Figure size 360x360 with 1 Axes>"
      ]
     },
     "metadata": {
      "needs_background": "light"
     },
     "output_type": "display_data"
    }
   ],
   "source": [
    "# apply tSNE on embeddings\n",
    "from sklearn.manifold import TSNE\n",
    "tsne = TSNE(n_components=2, metric=\"cosine\")\n",
    "X_2d = tsne.fit_transform(X)\n",
    "\n",
    "# plot \n",
    "fig, ax = plt.subplots()\n",
    "fig.set_figheight(5)\n",
    "fig.set_figwidth(5)\n",
    "plt.scatter(*X_2d.T, c=y_true)"
   ]
  },
  {
   "cell_type": "code",
   "execution_count": null,
   "metadata": {
    "collapsed": true
   },
   "outputs": [],
   "source": []
  }
 ],
 "metadata": {
  "kernelspec": {
   "display_name": "py36",
   "language": "python",
   "name": "py36"
  },
  "language_info": {
   "codemirror_mode": {
    "name": "ipython",
    "version": 3
   },
   "file_extension": ".py",
   "mimetype": "text/x-python",
   "name": "python",
   "nbconvert_exporter": "python",
   "pygments_lexer": "ipython3",
   "version": "3.6.7"
  }
 },
 "nbformat": 4,
 "nbformat_minor": 2
}
